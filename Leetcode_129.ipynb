{
  "nbformat": 4,
  "nbformat_minor": 0,
  "metadata": {
    "colab": {
      "provenance": [],
      "authorship_tag": "ABX9TyOqotU81RkbBeqgZbBCk17J",
      "include_colab_link": true
    },
    "kernelspec": {
      "name": "python3",
      "display_name": "Python 3"
    },
    "language_info": {
      "name": "python"
    }
  },
  "cells": [
    {
      "cell_type": "markdown",
      "metadata": {
        "id": "view-in-github",
        "colab_type": "text"
      },
      "source": [
        "<a href=\"https://colab.research.google.com/github/Ahtesham-Ibne-Mostafa/Escape/blob/main/Leetcode_129.ipynb\" target=\"_parent\"><img src=\"https://colab.research.google.com/assets/colab-badge.svg\" alt=\"Open In Colab\"/></a>"
      ]
    },
    {
      "cell_type": "code",
      "execution_count": 5,
      "metadata": {
        "colab": {
          "base_uri": "https://localhost:8080/",
          "height": 176
        },
        "id": "5iNuT95PSezW",
        "outputId": "bb15992f-3c70-49b8-c546-9ab23292e488"
      },
      "outputs": [
        {
          "output_type": "error",
          "ename": "TypeError",
          "evalue": "Solution() takes no arguments",
          "traceback": [
            "\u001b[0;31m---------------------------------------------------------------------------\u001b[0m",
            "\u001b[0;31mTypeError\u001b[0m                                 Traceback (most recent call last)",
            "\u001b[0;32m<ipython-input-5-964502029e03>\u001b[0m in \u001b[0;36m<cell line: 17>\u001b[0;34m()\u001b[0m\n\u001b[1;32m     15\u001b[0m                 \u001b[0mself\u001b[0m\u001b[0;34m.\u001b[0m\u001b[0mres\u001b[0m \u001b[0;34m+=\u001b[0m \u001b[0mvalue\u001b[0m\u001b[0;34m*\u001b[0m\u001b[0;36m10\u001b[0m \u001b[0;34m+\u001b[0m \u001b[0mroot\u001b[0m\u001b[0;34m.\u001b[0m\u001b[0mval\u001b[0m\u001b[0;34m\u001b[0m\u001b[0;34m\u001b[0m\u001b[0m\n\u001b[1;32m     16\u001b[0m \u001b[0;34m\u001b[0m\u001b[0m\n\u001b[0;32m---> 17\u001b[0;31m \u001b[0mf\u001b[0m\u001b[0;34m=\u001b[0m\u001b[0mSolution\u001b[0m\u001b[0;34m(\u001b[0m\u001b[0mx\u001b[0m\u001b[0;34m)\u001b[0m\u001b[0;34m\u001b[0m\u001b[0;34m\u001b[0m\u001b[0m\n\u001b[0m",
            "\u001b[0;31mTypeError\u001b[0m: Solution() takes no arguments"
          ]
        }
      ],
      "source": [
        "x=[4,9,0,5,1,2,8,3,5]\n",
        "class TreeNode:\n",
        "    def __init__(self, x):\n",
        "        self.val = x\n",
        "        self.left = None\n",
        "        self.right = None\n",
        "\n",
        "def array_to_btree(array):\n",
        "    if not array:\n",
        "        return None\n",
        "    root = TreeNode(array[0])\n",
        "    queue = [root]\n",
        "    front = 0\n",
        "    index = 1\n",
        "    while index < len(array):\n",
        "        node = queue[front]\n",
        "        front = front + 1\n",
        "\n",
        "        item = array[index]\n",
        "        index = index + 1\n",
        "        if item != None:\n",
        "            leftNumber = item\n",
        "            node.left = TreeNode(leftNumber)\n",
        "            queue.append(node.left)\n",
        "\n",
        "        if index >= len(array):\n",
        "            break\n",
        "\n",
        "        item = array[index]\n",
        "        index = index + 1\n",
        "        if item != None:\n",
        "            rightNumber = item\n",
        "            node.right = TreeNode(rightNumber)\n",
        "            queue.append(node.right)\n",
        "    return root\n"
      ]
    },
    {
      "cell_type": "code",
      "source": [
        "\n"
      ],
      "metadata": {
        "id": "2xqVLK5gUTPU"
      },
      "execution_count": null,
      "outputs": []
    }
  ]
}